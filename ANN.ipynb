{
  "nbformat": 4,
  "nbformat_minor": 0,
  "metadata": {
    "colab": {
      "name": "ANN.ipynb",
      "provenance": [],
      "collapsed_sections": [],
      "mount_file_id": "1mtvMppnffzN6xEAwCAQC1_mTWsyei-da",
      "authorship_tag": "ABX9TyP1jYHiNCClXPX3hD/mMwni"
    },
    "kernelspec": {
      "name": "python3",
      "display_name": "Python 3"
    },
    "language_info": {
      "name": "python"
    },
    "accelerator": "TPU"
  },
  "cells": [
    {
      "cell_type": "code",
      "metadata": {
        "id": "2B7yQ970Plvm"
      },
      "source": [
        "import numpy as np\n",
        "import pandas as pd\n",
        "import matplotlib.pyplot as plt\n",
        "from google.colab import drive"
      ],
      "execution_count": null,
      "outputs": []
    },
    {
      "cell_type": "code",
      "metadata": {
        "colab": {
          "base_uri": "https://localhost:8080/"
        },
        "id": "NmfOChXiQPJQ",
        "outputId": "5c5c5320-df58-4560-8cca-ec1f3775754d"
      },
      "source": [
        "drive.mount('/content/drive')"
      ],
      "execution_count": null,
      "outputs": [
        {
          "output_type": "stream",
          "name": "stdout",
          "text": [
            "Drive already mounted at /content/drive; to attempt to forcibly remount, call drive.mount(\"/content/drive\", force_remount=True).\n"
          ]
        }
      ]
    },
    {
      "cell_type": "code",
      "metadata": {
        "id": "friZIsjaP78P"
      },
      "source": [
        "Iris = pd.read_csv('/content/drive/MyDrive/ML Data/Iris.csv')"
      ],
      "execution_count": null,
      "outputs": []
    },
    {
      "cell_type": "code",
      "metadata": {
        "id": "Z93aP-Cd2BTt"
      },
      "source": [
        "data_np = np.array(Iris.iloc[:,1:].to_dict('split')['data'])\n",
        "np.random.shuffle(data_np)\n",
        "train = data_np.T[:-1].T\n",
        "train_result = data_np.T[-1]\n",
        "train_result[train_result==\"Iris-setosa\"] = 0\n",
        "train_result[train_result==\"Iris-versicolor\"] = 1\n",
        "train_result[train_result==\"Iris-virginica\"] = 2\n",
        "train_result=train_result.reshape(-1,1)\n",
        "length = data_np.shape[0]\n",
        "length8=int(length*0.8)\n",
        "\n",
        "train_result_sample = []\n",
        "for item in train_result:\n",
        "  lst = list([0,0,0])\n",
        "  lst[int(item)] = 1\n",
        "  train_result_sample.append(lst)\n",
        "train_result_sample = np.array(train_result_sample)\n",
        "train=train.astype(float)\n",
        "max = train.max(axis=0)\n",
        "min = train.min(axis=0)\n",
        "# for i in range(len(train)):\n",
        "#   for j in range(len(train[i])):\n",
        "#     train[i,j] = ((train[i,j]-min[j])/(max[j]-min[j]))\n",
        "# train = ((train-min)/max-min)\n",
        "X_train = train[:length8].astype(float)\n",
        "X_test = train[length8:].astype(float)\n",
        "y_train = train_result_sample[:length8].astype(float)\n",
        "y_test = train_result_sample[length8:].astype(float)"
      ],
      "execution_count": null,
      "outputs": []
    },
    {
      "cell_type": "code",
      "metadata": {
        "id": "eVgESNZt2Jko"
      },
      "source": [
        "def sigmoid(x, der=False):\n",
        "  if(der):\n",
        "    return x*(1-x)\n",
        "  a = np.exp(-x)\n",
        "  return 1.0/ (1.0 + a)\n",
        "\n",
        "def mse(y,y_pred, der=False):\n",
        "  if(der):\n",
        "    return y_pred*(y_pred-y)\n",
        "  return 0.5*(y_pred-y)**2"
      ],
      "execution_count": null,
      "outputs": []
    },
    {
      "cell_type": "code",
      "metadata": {
        "id": "7PVvj27U3ecY"
      },
      "source": [
        "class Layer:\n",
        "  def __init__(self, size, input = None, activation=sigmoid):\n",
        "    self.activation=activation\n",
        "    self.input = input\n",
        "    self.weight = np.random.uniform(-1,1,size)\n",
        "    self.bias = np.random.uniform(-1,1);\n",
        "    self.output = None\n",
        "  def calc_output(self, input):\n",
        "    self.input = input\n",
        "    self.output = self.activation(self.input.dot(self.weight) + self.bias)"
      ],
      "execution_count": null,
      "outputs": []
    },
    {
      "cell_type": "code",
      "metadata": {
        "colab": {
          "base_uri": "https://localhost:8080/",
          "height": 577
        },
        "id": "j03yUvKL6xEg",
        "outputId": "3af1ab99-4f8c-4e11-8dd3-039770dd8269"
      },
      "source": [
        "# lr = learning rate\n",
        "# activation = activation function where default use sigmoid activation function\n",
        "\n",
        "class ANN:\n",
        "  def __init__(self, X_train, y_train, lr, activation=sigmoid ):\n",
        "    self.layers = []\n",
        "    self.X_train = X_train\n",
        "    self.y_train = y_train\n",
        "    self.lr = lr\n",
        "    self.activation = activation\n",
        "\n",
        "  # adding layer\n",
        "  def addLayer(self,nb_nurons, activation=sigmoid):\n",
        "    if(len(self.layers) == 0):\n",
        "      self.layers.append(Layer((self.X_train.shape[1],nb_nurons),self.X_train, activation))\n",
        "    else:\n",
        "      last_layer = self.layers[-1]\n",
        "      self.layers.append(Layer((last_layer.weight.shape[1],nb_nurons),last_layer.output, activation))\n",
        "\n",
        "  # train\n",
        "  def train(self, epochs=10000):      \n",
        "    errors = []\n",
        "    if(len(self.layers) == 0):\n",
        "      print(\"No layers added \")\n",
        "      return errors \n",
        "    for i in range(epochs):\n",
        "      self.forward_prop()\n",
        "      self.backword_prop()\n",
        "      errors.append(np.mean(mse(self.y_train,self.layers[-1].output)))\n",
        "    return errors\n",
        "\n",
        "  def forward_prop(self):   \n",
        "    previous_value = self.X_train\n",
        "    for layer in self.layers:\n",
        "      layer.calc_output(previous_value)\n",
        "      previous_value = layer.output\n",
        "\n",
        "  def backword_prop(self):\n",
        "    last_layer = previous_layer = self.layers[-1]\n",
        "    der = mse(self.y_train, last_layer.output, der=True) * previous_layer.activation(last_layer.output, der=True)\n",
        "    last_layer.weight -= self.lr * last_layer.input.T.dot(der)\n",
        "    last_layer.bias -= self.lr * np.mean(der)\n",
        "    for layer in np.flip(self.layers, axis=0)[1:]:\n",
        "      der = der.dot(previous_layer.weight.T) * previous_layer.activation(layer.output, der=True)\n",
        "      layer.weight-=self.lr * layer.input.T.dot(der) \n",
        "      layer.bias -= self.lr * np.mean(der)\n",
        "      previous_layer = layer\n",
        "\n",
        "  def predict(self, X_test):\n",
        "    previous_value=X_test\n",
        "    for layer in self.layers:\n",
        "      layer.calc_output(previous_value)\n",
        "      previous_value = layer.output\n",
        "    return previous_value\n",
        "\n",
        "\n",
        "train = np.array([\n",
        "    [0,0],\n",
        "    [0,1],\n",
        "    [1,0],\n",
        "    [1,1]\n",
        "])\n",
        "train_result = np.array([0,1,1,0]).reshape((-1,1))\n",
        "\n",
        "ann = ANN(X_train, y_train, lr=0.001)\n",
        "ann.addLayer(10)\n",
        "ann.addLayer(5)\n",
        "ann.addLayer(3)\n",
        "errors = ann.train(epochs=50000)\n",
        "plt.plot(errors)\n",
        "print(errors[-1])\n",
        "y_test_after = np.argmax(y_test, axis=1)\n",
        "y_predict = np.argmax(ann.predict(X_test), axis=1)\n",
        "\n",
        "from sklearn.metrics import confusion_matrix\n",
        "print('\\nConfusion matrix')\n",
        "print(confusion_matrix(y_test_after, y_predict))\n",
        "\n",
        "from sklearn.metrics import classification_report\n",
        "print('\\nClassification Report')\n",
        "print(classification_report(y_test_after, y_predict))  "
      ],
      "execution_count": null,
      "outputs": [
        {
          "output_type": "stream",
          "name": "stdout",
          "text": [
            "0.006222035330560593\n",
            "\n",
            "Confusion matrix\n",
            "[[10  0  0]\n",
            " [ 0 13  0]\n",
            " [ 0  0  7]]\n",
            "\n",
            "Classification Report\n",
            "              precision    recall  f1-score   support\n",
            "\n",
            "           0       1.00      1.00      1.00        10\n",
            "           1       1.00      1.00      1.00        13\n",
            "           2       1.00      1.00      1.00         7\n",
            "\n",
            "    accuracy                           1.00        30\n",
            "   macro avg       1.00      1.00      1.00        30\n",
            "weighted avg       1.00      1.00      1.00        30\n",
            "\n"
          ]
        },
        {
          "output_type": "display_data",
          "data": {
            "image/png": "[encoded data removed]",
            "text/plain": [
              "<Figure size 432x288 with 1 Axes>"
            ]
          },
          "metadata": {
            "needs_background": "light"
          }
        }
      ]
    }
  ]
}